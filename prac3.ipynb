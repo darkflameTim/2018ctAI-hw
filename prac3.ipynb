{
 "cells": [
  {
   "cell_type": "markdown",
   "metadata": {},
   "source": [
    "# Introduction to Artificial Intelligence for Non Computing"
   ]
  },
  {
   "cell_type": "markdown",
   "metadata": {},
   "source": [
    "## Practical 3 (weeks 5 - 6)"
   ]
  },
  {
   "cell_type": "markdown",
   "metadata": {},
   "source": [
    "The following links provide additional information about data analysis , machine learning and Numpy"
   ]
  },
  {
   "cell_type": "markdown",
   "metadata": {},
   "source": [
    "Python data analysis: https://www.imooc.com/learn/843\n",
    "machine learning: https://www.imooc.com/learn/717\n",
    "Numpy :https://www.imooc.com/learn/943"
   ]
  },
  {
   "cell_type": "markdown",
   "metadata": {},
   "source": [
    "#### Theory Questions"
   ]
  },
  {
   "cell_type": "markdown",
   "metadata": {},
   "source": [
    "1\\.Which of the following are true and which are false? Give brief explanations.\n",
    "- a. In a fully observable, turn-taking, zero-sum game between two perfectly rational players,it does not help the first player to know what strategy the second player is using—that is, what move the second player will make, given the first player's move.\n",
    "- b. In a partially observable, turn-taking, zero-sum game between two perfectly rational players, it does not help the first player to know what move the second player will make, given the first player's move.\n",
    "- c. A perfectly rational backgammon agent never loses.\n",
    "\n",
    "See textbook Chapter6 24.6"
   ]
  },
  {
   "cell_type": "markdown",
   "metadata": {},
   "source": [
    "\n",
    "a.true. The players are perfectly rational, so that the second player would change strategy base on the move of the first player.\n",
    "\n",
    "b.false. Due to partially observable, the first player wouold not know the strategy that the second player going to use. So it would help.\n",
    "\n",
    "c.false. The agent could only do the optimal move. That may not make the agent always win.\n",
    "***"
   ]
  },
  {
   "cell_type": "markdown",
   "metadata": {},
   "source": [
    "2\\.Define in your own words the terms constraint, backtracking search, arc consistency,backjumping, min-conflicts, and cycle cutset.\n",
    "\n",
    "See textbook Chapter6 6.16"
   ]
  },
  {
   "cell_type": "markdown",
   "metadata": {},
   "source": [
    "constraint:Limit on the possible of two or more variables.\n",
    "\n",
    "backtracking search:It's kind of dfs. While you after search to the end of the path, you go back to the node before the end and go other path from that node.\n",
    "\n",
    "arc consistency: That means the variable in SCP whose domain satisfies the variable's binary constraints.\n",
    "\n",
    "backjumping:It's a method that backtracks to the most recent assignment in the conflict set.\n",
    "\n",
    "\n",
    "***"
   ]
  },
  {
   "cell_type": "markdown",
   "metadata": {},
   "source": [
    "3\\.Explain why it is a good heuristic to choose the variable that is most constrained but the value that is least constraining in a CSP search.\n",
    "\n",
    "See textbook Chapter6 6.9"
   ]
  },
  {
   "cell_type": "markdown",
   "metadata": {},
   "source": [
    "The most constrained variable would easily cause a failure and the least constrining value heruristic allows the most chances for future assignments to avoid conflict.\n",
    "***"
   ]
  },
  {
   "cell_type": "markdown",
   "metadata": {},
   "source": [
    "4\\.Consider the following procedure for choosing moves in games with chance nodes: \n",
    "- 1、Generate some dice-roll sequences (say, 50) down to a suitable depth (say, 8).\n",
    "- 2、With known dice rolls, the game tree becomes deterministic. For each dice-roll sequence,solve the resulting deterministic game tree using alpha-beta.\n",
    "- 3、Use the results to estimate the value of each move and to choose the best.Will this procedure work well? Why (or why not)?\n",
    "\n",
    "See textbook Chapter5 5.19"
   ]
  },
  {
   "cell_type": "markdown",
   "metadata": {},
   "source": [
    "I don't think the procedure would work well, it may not give the correct answer but the average of the max and mix of the result of dice-roll. Even know the dice rolls would not help to get more efficent information about the games, so it wouldn't work well. \n",
    "\n",
    "***"
   ]
  },
  {
   "cell_type": "markdown",
   "metadata": {},
   "source": [
    "5\\. Now,please consider this game:  there are three plates A, B and C, each plate has three bills. A puts 1, 20, 50; B puts 5, 10, 100; C puts 1, 5, 20. All units are \"Yuan\". There are two persons A and B, and two of them can check out three plates and banknotes .（ A is ourself, The other is B）\n",
    "The game is divided into three steps: \n",
    "- 1、A select a plate from three plate.\n",
    "- 2、B take out two banknotes from A selected plate,and give the  banknotes to A.  \n",
    "- 3、A take one of the two banknotes, and take it away.among,A want to get the max banknotes, B want to let A to get the min.\n",
    "\n",
    "Try to understand the minimax algorithm，you can click the link:https://blog.csdn.net/tangchenyi/article/details/22920031"
   ]
  },
  {
   "cell_type": "markdown",
   "metadata": {},
   "source": [
    "B want A to get the min, so B must leave the max of the plate and take out the rest small banknotes. While A wants to get the max, so A would take the bigger one of them. So if A choose A plate, A would get 20 yuan; B plate, 10 yuan; C plate, 5 yuan.\n",
    "So if A want to take the max, A should select plate A, and the max is 20 yuan. \n",
    "\n",
    "***"
   ]
  },
  {
   "cell_type": "markdown",
   "metadata": {},
   "source": [
    "### Programming Excercises"
   ]
  },
  {
   "cell_type": "markdown",
   "metadata": {},
   "source": [
    "1\\. Guess number(Single number): please generate a randomly number  with the function (random), then ask someone to guess the number,I think we should give the corresponding hint, otherwise it will be very difficult to guess the number.the game will be over untill you get the right number."
   ]
  },
  {
   "cell_type": "code",
   "execution_count": 2,
   "metadata": {},
   "outputs": [
    {
     "name": "stdout",
     "output_type": "stream",
     "text": [
      "Please enter your guess:5\n",
      "<class 'int'>\n",
      "Larger than the number\n",
      "Please enter your guess:3\n",
      "<class 'int'>\n",
      "Bingo\n"
     ]
    }
   ],
   "source": [
    "## write your answer here!\n",
    "import random\n",
    "a = random.randint(0, 9)\n",
    "while (True):\n",
    "    b = int(input('Please enter your guess:'))\n",
    "    if(a>b):\n",
    "        print('Smaller than the number')\n",
    "    elif (a < b):\n",
    "        print('Larger than the number')\n",
    "    elif (a == b):\n",
    "        print('Bingo')\n",
    "        break"
   ]
  },
  {
   "cell_type": "markdown",
   "metadata": {},
   "source": [
    "2\\.if you had understand the guess single number games,Congratulates,next is the guess three number games,Maybe you can do it well.But this is a different way of thinking. \n",
    "first : we need generate three numbers,there are most ten times chances give  you to guess the number,of course,we also give you some cue.\n",
    "\n",
    "- 'When I say:-->It means:\n",
    "- 'error--> The 3 numbers are not in the mystical numbers.'\n",
    "- 'Only the number is correct --> the number is right , but the position is not right.'\n",
    "- 'Absolutely right--> numbers is right and the position also right.'\n",
    "\n",
    "Maybe it's better for you to understand the rule well through see the picture.\n",
    "<div style=\"float:left;\" ><img src=\"img/p1.png\" width=\"400\" height=\"300\" >"
   ]
  },
  {
   "cell_type": "code",
   "execution_count": 1,
   "metadata": {},
   "outputs": [
    {
     "name": "stdout",
     "output_type": "stream",
     "text": [
      "There are 3 numbers, please guess what they are\n",
      "This is the  1 time:\n",
      "123\n",
      "['Error', 'Error', 'Error']\n",
      "This is the  2 time:\n",
      "321\n",
      "['Error', 'Error', 'Error']\n",
      "This is the  3 time:\n",
      "456\n",
      "['Only the number is right', 'Absolutely right', 'Error']\n",
      "This is the  4 time:\n",
      "654\n",
      "['Absolutely right', 'Error', 'Only the number is right']\n",
      "This is the  5 time:\n",
      "655\n",
      "['Absoluely right', 'Only the number is right', 'Error']\n",
      "This is the  6 time:\n",
      "645\n",
      "['Absoluely right', 'Only the number is right', 'Error']\n",
      "This is the  7 time:\n",
      "666\n",
      "['Absolutely right', 'Error', 'Only the number is right']\n",
      "This is the  8 time:\n",
      "645\n",
      "['Absoluely right', 'Only the number is right', 'Error']\n",
      "This is the  9 time:\n",
      "654\n",
      "['Absolutely right', 'Error', 'Only the number is right']\n",
      "This is the  10 time:\n",
      "645\n",
      "['Absoluely right', 'Only the number is right', 'Error']\n",
      "Game Over\n"
     ]
    }
   ],
   "source": [
    "## write your answer here!\n",
    "import random\n",
    "a = random.randint(0, 9)\n",
    "b = random.randint(0, 9)\n",
    "c = random.randint(0, 9)\n",
    "\n",
    "print('There are 3 numbers, please guess what they are')\n",
    "count =1\n",
    "while (count<11):\n",
    "    feedback = []\n",
    "    # print(a,b,c)\n",
    "    print('This is the ', count ,'time:')\n",
    "    d, e, f = input()\n",
    "    d = int(d)\n",
    "    e = int(e)\n",
    "    f = int(f)\n",
    "    if(d == a and e == b and f == c):\n",
    "        print('Congratulations ! ')\n",
    "        break\n",
    "    elif (d == a ):\n",
    "        if(b==f and c==e):\n",
    "            feedback.append('Absoluely right')\n",
    "            feedback.append('Only the number is right')\n",
    "            feedback.append('Only the number is right')\n",
    "            print(feedback)\n",
    "        elif(b==f):\n",
    "            feedback.append('Absoluely right')\n",
    "            feedback.append('Only the number is right')\n",
    "            feedback.append('Error')\n",
    "            print(feedback)\n",
    "        elif(c==e):\n",
    "            feedback.append('Absoluely right')\n",
    "            feedback.append( 'Error')\n",
    "            feedback.append('Only the number is right')\n",
    "            print(feedback)\n",
    "        else:\n",
    "            feedback.append('Absolutely right')\n",
    "            feedback.append('Error')\n",
    "            feedback.append('Only the number is right')\n",
    "            print(feedback)\n",
    "    elif (b == e):\n",
    "        if(a==f and c==d):\n",
    "            feedback.append('Only the number is right')\n",
    "            feedback.append('Absolutely right')\n",
    "            feedback.append('Only the number is right')\n",
    "            print(feedback)\n",
    "        elif(a==f):\n",
    "            feedback.append('Only the number is right')\n",
    "            feedback.append('Absolutely right')\n",
    "            feedback.append('Error')\n",
    "            print(feedback)\n",
    "        elif(c==d):\n",
    "            feedback.append('Error')\n",
    "            feedback.append('Absolutely right')\n",
    "            feedback.append('Only the number is right')\n",
    "            print(feedback)\n",
    "        else:\n",
    "            feedback.append('Error')\n",
    "            feedback.append('Absolutely right')\n",
    "            feedback.append('Error')\n",
    "            print(feedback)\n",
    "    elif(c == f):\n",
    "        if(a==e and b==d):\n",
    "            feedback.append('Only the number is right')\n",
    "            feedback.append('Only the number is right')\n",
    "            feedback.append('Absolutely right')\n",
    "            print(feedback)\n",
    "        elif(a==e):\n",
    "            feedback.append('Only the number is right')\n",
    "            feedback.append( 'Error')\n",
    "            feedback.append('Absolutely right')\n",
    "            print(feedback)\n",
    "        elif(b==d):\n",
    "            feedback.append('Error')\n",
    "            feedback.append('Only the number is right')\n",
    "            feedback.append('Absolutely right')\n",
    "            print(feedback)\n",
    "        else:\n",
    "            feedback.append('Error')\n",
    "            feedback.append('Error')\n",
    "            feedback.append( 'Absolutely right')\n",
    "            print(feedback)\n",
    "    elif(a==e or a==f):\n",
    "        feedback.append('Only the number is right')\n",
    "        feedback.append('Error')\n",
    "        feedback.append('Error')\n",
    "        print(feedback)\n",
    "    elif(b==d or b==f):\n",
    "        feedback.append('Error')\n",
    "        feedback.append('Only the number is right')\n",
    "        feedback.append('Error')\n",
    "        print(feedback)\n",
    "    elif(c==d or c==e):\n",
    "        feedback.append('Error')\n",
    "        feedback.append('Error')\n",
    "        feedback.append('Only the number is right')\n",
    "        print(feedback)\n",
    "    else:\n",
    "        feedback.append('Error')\n",
    "        feedback.append('Error')\n",
    "        feedback.append('Error')\n",
    "        print(feedback)\n",
    "    count = count +1\n",
    "if(count>10):\n",
    "    print('Game Over')\n",
    "\n"
   ]
  },
  {
   "cell_type": "markdown",
   "metadata": {},
   "source": [
    "3\\.please try using Python's Tkinter to make a visual interface（GUI）.if you don't know anything.Maybe you can refer to the below interface.and implement it by code.\n",
    "\n",
    "<div style=\"float:left;\" ><img src=\"img/p2.png\" width=\"200\" height=\"200\" >"
   ]
  },
  {
   "cell_type": "code",
   "execution_count": null,
   "metadata": {},
   "outputs": [],
   "source": [
    "## write your answer here!\n",
    "from tkinter import *\n",
    "mygui = Tk(className= \"disanti\")\n",
    "mymenu=Menu()\n",
    "mymenu.add_command(label=\"hit\")\n",
    "mymenu.add_command(label=\"beat\")\n",
    "mymenu.add_command(label=\"shake\")\n",
    "mygui.config(menu=mymenu)\n",
    "list1 = ['C', 'python', 'php', 'html', 'SQL', 'java']\n",
    "list2 = ['CSS', 'jQuery', 'Bootstrap']\n",
    "listb = Listbox(mygui)  \n",
    "listb2 = Listbox(mygui)\n",
    "for item in list1:\n",
    "    listb.insert(0, item)\n",
    "for item in list2:\n",
    "    listb2.insert(0, item)\n",
    "listb.pack()\n",
    "listb2.pack()\n",
    "text=Text()\n",
    "btn=Button()\n",
    "btn['text']='a pointless butten'\n",
    "btn.pack()\n",
    "mainloop()"
   ]
  },
  {
   "cell_type": "markdown",
   "metadata": {},
   "source": [
    "4\\.Through the initial trial of Tkinter,    please write a simple calculator.\n",
    "\n",
    "<div style=\"float:left;\" ><img src=\"img/p3.png\" width=\"180\" height=\"200\" center=\"left\"></div>\n",
    "<div style=\"float:left;\" ><img src=\"img/p4.png\" width=\"180\" height=\"200\" center=\"right\" ></div>"
   ]
  },
  {
   "cell_type": "code",
   "execution_count": 2,
   "metadata": {},
   "outputs": [],
   "source": [
    "## write your answer here!\n",
    "from tkinter import *\n",
    "Calculator = Tk()\n",
    "Calculator.title(\"Simple Calculator\")\n",
    "Calculator.geometry(\"800x600\")\n",
    "display=\"0\"\n",
    "\n",
    "def frame(root, side):\n",
    "    f = Frame(root)\n",
    "    f.pack(side=side, expand=YES, fill=BOTH)\n",
    "    return f\n",
    "\n",
    "def button(root, side, text, command=None):\n",
    "    b = Button(root, text=text, command=command)\n",
    "    b.pack(side=side, expand=YES, fill=BOTH)\n",
    "    return b\n",
    "class Calculator(Frame):\n",
    "    def __init__(self):\n",
    "\n",
    "        Frame.__init__(self)\n",
    "\n",
    "        self.pack(expand=YES, fill=BOTH)\n",
    "        self.master.title('Simple Calculater')\n",
    "\n",
    "        display = StringVar()\n",
    "        Entry(self, relief=SUNKEN,\n",
    "              textvariable=display).pack(side=TOP, expand=YES,\n",
    "                                         fill=BOTH)\n",
    "\n",
    "        for key in ('123', '456', '789', '±0.'):\n",
    "            keyF = frame(self, TOP)\n",
    "            for char in key:\n",
    "                button(keyF, LEFT, char, lambda w=display, c=char: w.set(w.get() + c))\n",
    "\n",
    "        opsF = frame(self, TOP)\n",
    "        for char in '+-*/=':\n",
    "            if char == '=':\n",
    "                b = button(opsF, LEFT, char)\n",
    "                b.bind('<ButtonRelease - 1>', lambda e, s=self, w=display: s.calc(w), '+')\n",
    "\n",
    "            else:\n",
    "                b = button(opsF, LEFT, char, lambda w=display, s='%s' % char: w.set(w.get() + s))\n",
    "\n",
    "        clearF = frame(self, BOTTOM)\n",
    "        button(clearF, LEFT, 'c', lambda w=display: w.set(''))\n",
    "\n",
    "    def calc(self, display):\n",
    "        try:\n",
    "            display.set(eval(display.get()))\n",
    "        except:\n",
    "            display.set(\"ERROR\")\n",
    "\n",
    "if __name__ == '__main__':\n",
    "    Calculator().mainloop()"
   ]
  },
  {
   "cell_type": "markdown",
   "metadata": {},
   "source": [
    "5\\.Ball game:Python's pinball game, which can realize the game function of the keyboard control bottom baffle moving collision ball similar to table tennis game. \n",
    "\n",
    "<div style=\"float:left;\" ><img src=\"img/p5.png\" width=\"200\" height=\"200\" center=\"left\"></div>\n",
    "<div style=\"float:left;\" ><img src=\"img/p6.png\" width=\"200\" height=\"200\" center=\"right\" ></div>\n"
   ]
  },
  {
   "cell_type": "markdown",
   "metadata": {},
   "source": [
    "this is a step:how to install the matplotlib,you can reference this link:https://blog.csdn.net/not_give_up_/article/details/79058272\n",
    "1. Ball Class\n",
    "    draw is responsible for moving Ball\n",
    "    Collision detection, bounce, Ball detection of Paddle \n",
    "2. Paddle Class\n",
    "    draw is responsible for moving Paddle\n",
    "    Collision detection to determine whether or not to continue ,Monitor keyboard events\n",
    "3. main cycle\n",
    "    Drawing the Ball and Paddle"
   ]
  },
  {
   "cell_type": "code",
   "execution_count": 3,
   "metadata": {},
   "outputs": [
    {
     "ename": "TclError",
     "evalue": "can't invoke \"update\" command: application has been destroyed",
     "output_type": "error",
     "traceback": [
      "\u001b[1;31m---------------------------------------------------------------------------\u001b[0m",
      "\u001b[1;31mTclError\u001b[0m                                  Traceback (most recent call last)",
      "\u001b[1;32m<ipython-input-3-8572af5a4bcd>\u001b[0m in \u001b[0;36m<module>\u001b[1;34m()\u001b[0m\n\u001b[0;32m     83\u001b[0m         \u001b[0mball\u001b[0m\u001b[1;33m.\u001b[0m\u001b[0mdraw\u001b[0m\u001b[1;33m(\u001b[0m\u001b[1;33m)\u001b[0m\u001b[1;33m\u001b[0m\u001b[0m\n\u001b[0;32m     84\u001b[0m         \u001b[0mpaddle\u001b[0m\u001b[1;33m.\u001b[0m\u001b[0mdraw\u001b[0m\u001b[1;33m(\u001b[0m\u001b[1;33m)\u001b[0m\u001b[1;33m\u001b[0m\u001b[0m\n\u001b[1;32m---> 85\u001b[1;33m     \u001b[0mtk\u001b[0m\u001b[1;33m.\u001b[0m\u001b[0mupdate\u001b[0m\u001b[1;33m(\u001b[0m\u001b[1;33m)\u001b[0m\u001b[1;33m\u001b[0m\u001b[0m\n\u001b[0m\u001b[0;32m     86\u001b[0m     \u001b[0mtime\u001b[0m\u001b[1;33m.\u001b[0m\u001b[0msleep\u001b[0m\u001b[1;33m(\u001b[0m\u001b[1;36m0.03\u001b[0m\u001b[1;33m)\u001b[0m\u001b[1;33m\u001b[0m\u001b[0m\n\u001b[0;32m     87\u001b[0m     \u001b[1;32mpass\u001b[0m\u001b[1;33m\u001b[0m\u001b[0m\n",
      "\u001b[1;32mC:\\ProgramData\\Anaconda3\\lib\\tkinter\\__init__.py\u001b[0m in \u001b[0;36mupdate\u001b[1;34m(self)\u001b[0m\n\u001b[0;32m   1172\u001b[0m     \u001b[1;32mdef\u001b[0m \u001b[0mupdate\u001b[0m\u001b[1;33m(\u001b[0m\u001b[0mself\u001b[0m\u001b[1;33m)\u001b[0m\u001b[1;33m:\u001b[0m\u001b[1;33m\u001b[0m\u001b[0m\n\u001b[0;32m   1173\u001b[0m         \u001b[1;34m\"\"\"Enter event loop until all pending events have been processed by Tcl.\"\"\"\u001b[0m\u001b[1;33m\u001b[0m\u001b[0m\n\u001b[1;32m-> 1174\u001b[1;33m         \u001b[0mself\u001b[0m\u001b[1;33m.\u001b[0m\u001b[0mtk\u001b[0m\u001b[1;33m.\u001b[0m\u001b[0mcall\u001b[0m\u001b[1;33m(\u001b[0m\u001b[1;34m'update'\u001b[0m\u001b[1;33m)\u001b[0m\u001b[1;33m\u001b[0m\u001b[0m\n\u001b[0m\u001b[0;32m   1175\u001b[0m     \u001b[1;32mdef\u001b[0m \u001b[0mupdate_idletasks\u001b[0m\u001b[1;33m(\u001b[0m\u001b[0mself\u001b[0m\u001b[1;33m)\u001b[0m\u001b[1;33m:\u001b[0m\u001b[1;33m\u001b[0m\u001b[0m\n\u001b[0;32m   1176\u001b[0m         \"\"\"Enter event loop until all idle callbacks have been called. This\n",
      "\u001b[1;31mTclError\u001b[0m: can't invoke \"update\" command: application has been destroyed"
     ]
    }
   ],
   "source": [
    "from tkinter import *\n",
    "import random\n",
    "import time\n",
    "\n",
    "tk=Tk()\n",
    "tk.title('Game')\n",
    "tk.resizable(0,0)\n",
    "tk.wm_attributes(\"-topmost\",1)\n",
    "canvas = Canvas(tk,width=500,height=500,bd=0,highlightthickness=0)\n",
    "canvas.pack()\n",
    "tk.update()\n",
    "\n",
    "class ball:\n",
    "    def __init__(self,canvas,paddle,color):\n",
    "        self.canvas= canvas\n",
    "        self.paddle=paddle\n",
    "        self.id = canvas.create_oval(10,10,25,25,fill=color)\n",
    "        self.canvas.move(self.id,245,100)\n",
    "\n",
    "        starts = [-3, -2, -1, 1, 1, 2, 3]\n",
    "        random.shuffle(starts)\n",
    "        self.x = starts[0]\n",
    "        self.y = -3\n",
    "        self.canvas_height = self.canvas.winfo_height()\n",
    "        self.canvas_width = self.canvas.winfo_width()\n",
    "        self.hit_bottom = False\n",
    "\n",
    "\n",
    "    def hit_paddle(self, pos):  ##判断球是否撞到挡板\n",
    "        paddle_pos = self.canvas.coords(self.paddle.id)\n",
    "        if pos[2] >= paddle_pos[0] and pos[0] <= paddle_pos[2]:\n",
    "            if pos[3] >= paddle_pos[1] and pos[3] <= paddle_pos[3]:\n",
    "                return True\n",
    "\n",
    "\n",
    "    def draw(self):\n",
    "        self.canvas.move(self.id, self.x, self.y)\n",
    "        pos = self.canvas.coords(self.id)\n",
    "        if pos[1] <= 0:\n",
    "            self.y = 3\n",
    "        if pos[0] <= 0:\n",
    "            self.x = 3\n",
    "        if pos[2] >= self.canvas_width:\n",
    "            self.x = -3\n",
    "        if self.hit_paddle(pos) == True:\n",
    "            self.y = -3\n",
    "        if pos[3] >= self.canvas_height:\n",
    "            self.hit_bottom = True\n",
    "\n",
    "\n",
    "\n",
    "\n",
    "class paddle:\n",
    "    def __init__(self, canvas, color):\n",
    "        self.canvas = canvas\n",
    "        self.id = canvas.create_rectangle(0, 0, 150, 10, fill=color)\n",
    "        self.canvas.move(self.id, 200, 300)\n",
    "        self.x = 0\n",
    "        self.canvas_width = self.canvas.winfo_width()\n",
    "        self.canvas.bind_all('<KeyPress-Left>', self.turn_left)\n",
    "        self.canvas.bind_all('<KeyPress-Right>', self.turn_right)\n",
    "\n",
    "    def turn_left(self, evt):\n",
    "        self.x = -3\n",
    "\n",
    "    def turn_right(self, evt):\n",
    "        self.x = 3\n",
    "\n",
    "    def draw(self):\n",
    "        self.canvas.move(self.id, self.x, 0)\n",
    "        pos = self.canvas.coords(self.id)\n",
    "        if pos[0] <= 0:\n",
    "            self.x = 0\n",
    "        if pos[2] >= self.canvas_width:\n",
    "            self.x = 0\n",
    "\n",
    "\n",
    "paddle = paddle(canvas, \"blue\")\n",
    "ball = ball(canvas, paddle, \"red\")\n",
    "\n",
    "while True:\n",
    "    if ball.hit_bottom==False:\n",
    "        ball.draw()\n",
    "        paddle.draw()\n",
    "    tk.update()\n",
    "    time.sleep(0.03)\n",
    "    pass\n",
    "\n",
    "mainloop()\n"
   ]
  },
  {
   "cell_type": "code",
   "execution_count": null,
   "metadata": {},
   "outputs": [],
   "source": []
  },
  {
   "cell_type": "code",
   "execution_count": null,
   "metadata": {},
   "outputs": [],
   "source": []
  }
 ],
 "metadata": {
  "kernelspec": {
   "display_name": "Python 3",
   "language": "python",
   "name": "python3"
  },
  "language_info": {
   "codemirror_mode": {
    "name": "ipython",
    "version": 3
   },
   "file_extension": ".py",
   "mimetype": "text/x-python",
   "name": "python",
   "nbconvert_exporter": "python",
   "pygments_lexer": "ipython3",
   "version": "3.6.5"
  }
 },
 "nbformat": 4,
 "nbformat_minor": 2
}
